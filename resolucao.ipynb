{
 "cells": [
  {
   "cell_type": "markdown",
   "metadata": {
    "id": "7jRptZoynYjv"
   },
   "source": [
    "## Módulos"
   ]
  },
  {
   "cell_type": "code",
   "execution_count": 3,
   "metadata": {
    "colab": {
     "base_uri": "https://localhost:8080/"
    },
    "executionInfo": {
     "elapsed": 21250,
     "status": "ok",
     "timestamp": 1645051936681,
     "user": {
      "displayName": "Neto Alcides",
      "photoUrl": "https://lh3.googleusercontent.com/a-/AOh14Gh8VabomHhTSghAjZkIwbJOQxu7jJks-O6DCCPedw=s64",
      "userId": "13364792603978952311"
     },
     "user_tz": 180
    },
    "id": "y2waItFsvCYO",
    "outputId": "526910e7-c0cf-4ac7-e34f-7c59e2149a2f"
   },
   "outputs": [
    {
     "name": "stdout",
     "output_type": "stream",
     "text": [
      "Collecting pingouin\n",
      "  Downloading pingouin-0.5.0.tar.gz (182 kB)\n",
      "\u001b[?25l\r\u001b[K     |█▉                              | 10 kB 29.2 MB/s eta 0:00:01\r\u001b[K     |███▋                            | 20 kB 33.0 MB/s eta 0:00:01\r\u001b[K     |█████▍                          | 30 kB 36.4 MB/s eta 0:00:01\r\u001b[K     |███████▏                        | 40 kB 39.1 MB/s eta 0:00:01\r\u001b[K     |█████████                       | 51 kB 32.7 MB/s eta 0:00:01\r\u001b[K     |██████████▊                     | 61 kB 25.0 MB/s eta 0:00:01\r\u001b[K     |████████████▌                   | 71 kB 21.9 MB/s eta 0:00:01\r\u001b[K     |██████████████▍                 | 81 kB 23.6 MB/s eta 0:00:01\r\u001b[K     |████████████████▏               | 92 kB 25.5 MB/s eta 0:00:01\r\u001b[K     |██████████████████              | 102 kB 22.0 MB/s eta 0:00:01\r\u001b[K     |███████████████████▊            | 112 kB 22.0 MB/s eta 0:00:01\r\u001b[K     |█████████████████████▌          | 122 kB 22.0 MB/s eta 0:00:01\r\u001b[K     |███████████████████████▎        | 133 kB 22.0 MB/s eta 0:00:01\r\u001b[K     |█████████████████████████       | 143 kB 22.0 MB/s eta 0:00:01\r\u001b[K     |██████████████████████████▉     | 153 kB 22.0 MB/s eta 0:00:01\r\u001b[K     |████████████████████████████▊   | 163 kB 22.0 MB/s eta 0:00:01\r\u001b[K     |██████████████████████████████▌ | 174 kB 22.0 MB/s eta 0:00:01\r\u001b[K     |████████████████████████████████| 182 kB 22.0 MB/s \n",
      "\u001b[?25hRequirement already satisfied: numpy>=1.19 in /usr/local/lib/python3.7/dist-packages (from pingouin) (1.21.5)\n",
      "Collecting scipy>=1.7\n",
      "  Downloading scipy-1.7.3-cp37-cp37m-manylinux_2_12_x86_64.manylinux2010_x86_64.whl (38.1 MB)\n",
      "\u001b[K     |████████████████████████████████| 38.1 MB 1.3 MB/s \n",
      "\u001b[?25hRequirement already satisfied: pandas>=1.0 in /usr/local/lib/python3.7/dist-packages (from pingouin) (1.3.5)\n",
      "Requirement already satisfied: matplotlib>=3.0.2 in /usr/local/lib/python3.7/dist-packages (from pingouin) (3.2.2)\n",
      "Requirement already satisfied: seaborn>=0.9.0 in /usr/local/lib/python3.7/dist-packages (from pingouin) (0.11.2)\n",
      "Collecting statsmodels>=0.12.0\n",
      "  Downloading statsmodels-0.13.2-cp37-cp37m-manylinux_2_17_x86_64.manylinux2014_x86_64.whl (9.8 MB)\n",
      "\u001b[K     |████████████████████████████████| 9.8 MB 48.7 MB/s \n",
      "\u001b[?25hRequirement already satisfied: scikit-learn in /usr/local/lib/python3.7/dist-packages (from pingouin) (1.0.2)\n",
      "Collecting pandas_flavor>=0.2.0\n",
      "  Downloading pandas_flavor-0.2.0-py2.py3-none-any.whl (6.6 kB)\n",
      "Collecting outdated\n",
      "  Downloading outdated-0.2.1-py3-none-any.whl (7.5 kB)\n",
      "Requirement already satisfied: tabulate in /usr/local/lib/python3.7/dist-packages (from pingouin) (0.8.9)\n",
      "Requirement already satisfied: pyparsing!=2.0.4,!=2.1.2,!=2.1.6,>=2.0.1 in /usr/local/lib/python3.7/dist-packages (from matplotlib>=3.0.2->pingouin) (3.0.7)\n",
      "Requirement already satisfied: python-dateutil>=2.1 in /usr/local/lib/python3.7/dist-packages (from matplotlib>=3.0.2->pingouin) (2.8.2)\n",
      "Requirement already satisfied: kiwisolver>=1.0.1 in /usr/local/lib/python3.7/dist-packages (from matplotlib>=3.0.2->pingouin) (1.3.2)\n",
      "Requirement already satisfied: cycler>=0.10 in /usr/local/lib/python3.7/dist-packages (from matplotlib>=3.0.2->pingouin) (0.11.0)\n",
      "Requirement already satisfied: pytz>=2017.3 in /usr/local/lib/python3.7/dist-packages (from pandas>=1.0->pingouin) (2018.9)\n",
      "Requirement already satisfied: xarray in /usr/local/lib/python3.7/dist-packages (from pandas_flavor>=0.2.0->pingouin) (0.18.2)\n",
      "Requirement already satisfied: six>=1.5 in /usr/local/lib/python3.7/dist-packages (from python-dateutil>=2.1->matplotlib>=3.0.2->pingouin) (1.15.0)\n",
      "Requirement already satisfied: patsy>=0.5.2 in /usr/local/lib/python3.7/dist-packages (from statsmodels>=0.12.0->pingouin) (0.5.2)\n",
      "Requirement already satisfied: packaging>=21.3 in /usr/local/lib/python3.7/dist-packages (from statsmodels>=0.12.0->pingouin) (21.3)\n",
      "Requirement already satisfied: requests in /usr/local/lib/python3.7/dist-packages (from outdated->pingouin) (2.23.0)\n",
      "Collecting littleutils\n",
      "  Downloading littleutils-0.2.2.tar.gz (6.6 kB)\n",
      "Requirement already satisfied: chardet<4,>=3.0.2 in /usr/local/lib/python3.7/dist-packages (from requests->outdated->pingouin) (3.0.4)\n",
      "Requirement already satisfied: urllib3!=1.25.0,!=1.25.1,<1.26,>=1.21.1 in /usr/local/lib/python3.7/dist-packages (from requests->outdated->pingouin) (1.24.3)\n",
      "Requirement already satisfied: certifi>=2017.4.17 in /usr/local/lib/python3.7/dist-packages (from requests->outdated->pingouin) (2021.10.8)\n",
      "Requirement already satisfied: idna<3,>=2.5 in /usr/local/lib/python3.7/dist-packages (from requests->outdated->pingouin) (2.10)\n",
      "Requirement already satisfied: threadpoolctl>=2.0.0 in /usr/local/lib/python3.7/dist-packages (from scikit-learn->pingouin) (3.1.0)\n",
      "Requirement already satisfied: joblib>=0.11 in /usr/local/lib/python3.7/dist-packages (from scikit-learn->pingouin) (1.1.0)\n",
      "Requirement already satisfied: setuptools>=40.4 in /usr/local/lib/python3.7/dist-packages (from xarray->pandas_flavor>=0.2.0->pingouin) (57.4.0)\n",
      "Building wheels for collected packages: pingouin, littleutils\n",
      "  Building wheel for pingouin (setup.py) ... \u001b[?25l\u001b[?25hdone\n",
      "  Created wheel for pingouin: filename=pingouin-0.5.0-py3-none-any.whl size=193660 sha256=db559539923af1cf281f27c455f7754e105cb9780f7b17467d7391b4183d8b77\n",
      "  Stored in directory: /root/.cache/pip/wheels/14/46/f9/cedd81d68d2515c24bbbd000d5b347e4fe092ccc4b568f7f70\n",
      "  Building wheel for littleutils (setup.py) ... \u001b[?25l\u001b[?25hdone\n",
      "  Created wheel for littleutils: filename=littleutils-0.2.2-py3-none-any.whl size=7048 sha256=198397593299f18938412d643b5d90c353fb7ce00cdcd4be2d891ee362e7a82f\n",
      "  Stored in directory: /root/.cache/pip/wheels/d6/64/cd/32819b511a488e4993f2fab909a95330289c3f4e0f6ef4676d\n",
      "Successfully built pingouin littleutils\n",
      "Installing collected packages: scipy, littleutils, statsmodels, pandas-flavor, outdated, pingouin\n",
      "  Attempting uninstall: scipy\n",
      "    Found existing installation: scipy 1.4.1\n",
      "    Uninstalling scipy-1.4.1:\n",
      "      Successfully uninstalled scipy-1.4.1\n",
      "  Attempting uninstall: statsmodels\n",
      "    Found existing installation: statsmodels 0.10.2\n",
      "    Uninstalling statsmodels-0.10.2:\n",
      "      Successfully uninstalled statsmodels-0.10.2\n",
      "\u001b[31mERROR: pip's dependency resolver does not currently take into account all the packages that are installed. This behaviour is the source of the following dependency conflicts.\n",
      "albumentations 0.1.12 requires imgaug<0.2.7,>=0.2.5, but you have imgaug 0.2.9 which is incompatible.\u001b[0m\n",
      "Successfully installed littleutils-0.2.2 outdated-0.2.1 pandas-flavor-0.2.0 pingouin-0.5.0 scipy-1.7.3 statsmodels-0.13.2\n"
     ]
    }
   ],
   "source": [
    "# instalar nova ferramenta para testes de hipoteses\n",
    "! sudo pip install pingouin"
   ]
  },
  {
   "cell_type": "code",
   "execution_count": 9,
   "metadata": {
    "colab": {
     "base_uri": "https://localhost:8080/"
    },
    "executionInfo": {
     "elapsed": 10318,
     "status": "ok",
     "timestamp": 1645052445707,
     "user": {
      "displayName": "Neto Alcides",
      "photoUrl": "https://lh3.googleusercontent.com/a-/AOh14Gh8VabomHhTSghAjZkIwbJOQxu7jJks-O6DCCPedw=s64",
      "userId": "13364792603978952311"
     },
     "user_tz": 180
    },
    "id": "cdf8Kd0AxBRk",
    "outputId": "1a445bd3-dca1-4d85-e164-a6abd6eb8a5d"
   },
   "outputs": [
    {
     "name": "stdout",
     "output_type": "stream",
     "text": [
      "Collecting scipy==1.7.1\n",
      "  Downloading scipy-1.7.1-cp37-cp37m-manylinux_2_5_x86_64.manylinux1_x86_64.whl (28.5 MB)\n",
      "\u001b[K     |████████████████████████████████| 28.5 MB 71.3 MB/s \n",
      "\u001b[?25hRequirement already satisfied: numpy<1.23.0,>=1.16.5 in /usr/local/lib/python3.7/dist-packages (from scipy==1.7.1) (1.21.5)\n",
      "Installing collected packages: scipy\n",
      "  Attempting uninstall: scipy\n",
      "    Found existing installation: scipy 1.7.3\n",
      "    Uninstalling scipy-1.7.3:\n",
      "      Successfully uninstalled scipy-1.7.3\n",
      "\u001b[31mERROR: pip's dependency resolver does not currently take into account all the packages that are installed. This behaviour is the source of the following dependency conflicts.\n",
      "albumentations 0.1.12 requires imgaug<0.2.7,>=0.2.5, but you have imgaug 0.2.9 which is incompatible.\u001b[0m\n",
      "Successfully installed scipy-1.7.1\n"
     ]
    }
   ],
   "source": [
    "# instalar versão atualizada\n",
    "! sudo pip install scipy==1.7.1"
   ]
  },
  {
   "cell_type": "code",
   "execution_count": 1,
   "metadata": {
    "executionInfo": {
     "elapsed": 6,
     "status": "ok",
     "timestamp": 1645052460316,
     "user": {
      "displayName": "Neto Alcides",
      "photoUrl": "https://lh3.googleusercontent.com/a-/AOh14Gh8VabomHhTSghAjZkIwbJOQxu7jJks-O6DCCPedw=s64",
      "userId": "13364792603978952311"
     },
     "user_tz": 180
    },
    "id": "qGokv9mWnYwm"
   },
   "outputs": [],
   "source": [
    "# gerais\n",
    "import numpy as np\n",
    "import pandas as pd\n",
    "import seaborn as sns\n",
    "import matplotlib.pyplot as plt"
   ]
  },
  {
   "cell_type": "code",
   "execution_count": 2,
   "metadata": {
    "executionInfo": {
     "elapsed": 411,
     "status": "ok",
     "timestamp": 1645052461780,
     "user": {
      "displayName": "Neto Alcides",
      "photoUrl": "https://lh3.googleusercontent.com/a-/AOh14Gh8VabomHhTSghAjZkIwbJOQxu7jJks-O6DCCPedw=s64",
      "userId": "13364792603978952311"
     },
     "user_tz": 180
    },
    "id": "f6ziCoPynY0f"
   },
   "outputs": [],
   "source": [
    "# analises\n",
    "from scipy import stats as st\n",
    "import pingouin as pg"
   ]
  },
  {
   "cell_type": "markdown",
   "metadata": {
    "id": "DurUTKqMo5aN"
   },
   "source": [
    "## Dados"
   ]
  },
  {
   "cell_type": "code",
   "execution_count": 3,
   "metadata": {
    "colab": {
     "base_uri": "https://localhost:8080/",
     "height": 206
    },
    "executionInfo": {
     "elapsed": 264,
     "status": "ok",
     "timestamp": 1645052464780,
     "user": {
      "displayName": "Neto Alcides",
      "photoUrl": "https://lh3.googleusercontent.com/a-/AOh14Gh8VabomHhTSghAjZkIwbJOQxu7jJks-O6DCCPedw=s64",
      "userId": "13364792603978952311"
     },
     "user_tz": 180
    },
    "id": "EierOl9io5k7",
    "outputId": "70c3ab74-90d9-4bdd-b5f9-6edf3c015e7a"
   },
   "outputs": [
    {
     "data": {
      "text/html": [
       "\n",
       "  <div id=\"df-6fe34c3e-a909-42dc-9f16-807bdb0118c3\">\n",
       "    <div class=\"colab-df-container\">\n",
       "      <div>\n",
       "<style scoped>\n",
       "    .dataframe tbody tr th:only-of-type {\n",
       "        vertical-align: middle;\n",
       "    }\n",
       "\n",
       "    .dataframe tbody tr th {\n",
       "        vertical-align: top;\n",
       "    }\n",
       "\n",
       "    .dataframe thead th {\n",
       "        text-align: right;\n",
       "    }\n",
       "</style>\n",
       "<table border=\"1\" class=\"dataframe\">\n",
       "  <thead>\n",
       "    <tr style=\"text-align: right;\">\n",
       "      <th></th>\n",
       "      <th>id</th>\n",
       "      <th>idade</th>\n",
       "      <th>educacao</th>\n",
       "      <th>tipo_emprego</th>\n",
       "      <th>renda</th>\n",
       "      <th>divida</th>\n",
       "      <th>outras_div</th>\n",
       "      <th>default</th>\n",
       "      <th>educacao_cat</th>\n",
       "      <th>idade_cat</th>\n",
       "      <th>renda_cat</th>\n",
       "    </tr>\n",
       "  </thead>\n",
       "  <tbody>\n",
       "    <tr>\n",
       "      <th>0</th>\n",
       "      <td>1</td>\n",
       "      <td>41</td>\n",
       "      <td>3</td>\n",
       "      <td>18</td>\n",
       "      <td>176</td>\n",
       "      <td>10.3</td>\n",
       "      <td>5.01</td>\n",
       "      <td>nao_pagou</td>\n",
       "      <td>ensin_sup</td>\n",
       "      <td>acima_40</td>\n",
       "      <td>(54,446]</td>\n",
       "    </tr>\n",
       "    <tr>\n",
       "      <th>1</th>\n",
       "      <td>2</td>\n",
       "      <td>27</td>\n",
       "      <td>1</td>\n",
       "      <td>10</td>\n",
       "      <td>31</td>\n",
       "      <td>17.3</td>\n",
       "      <td>4.00</td>\n",
       "      <td>pagou</td>\n",
       "      <td>ensin_basico</td>\n",
       "      <td>abaixo_30</td>\n",
       "      <td>(24,34]</td>\n",
       "    </tr>\n",
       "    <tr>\n",
       "      <th>2</th>\n",
       "      <td>3</td>\n",
       "      <td>40</td>\n",
       "      <td>1</td>\n",
       "      <td>15</td>\n",
       "      <td>55</td>\n",
       "      <td>5.5</td>\n",
       "      <td>2.17</td>\n",
       "      <td>pagou</td>\n",
       "      <td>ensin_basico</td>\n",
       "      <td>entre_30_40</td>\n",
       "      <td>(54,446]</td>\n",
       "    </tr>\n",
       "    <tr>\n",
       "      <th>3</th>\n",
       "      <td>4</td>\n",
       "      <td>41</td>\n",
       "      <td>1</td>\n",
       "      <td>15</td>\n",
       "      <td>120</td>\n",
       "      <td>2.9</td>\n",
       "      <td>0.82</td>\n",
       "      <td>pagou</td>\n",
       "      <td>ensin_basico</td>\n",
       "      <td>acima_40</td>\n",
       "      <td>(54,446]</td>\n",
       "    </tr>\n",
       "    <tr>\n",
       "      <th>4</th>\n",
       "      <td>5</td>\n",
       "      <td>24</td>\n",
       "      <td>2</td>\n",
       "      <td>2</td>\n",
       "      <td>28</td>\n",
       "      <td>17.3</td>\n",
       "      <td>3.06</td>\n",
       "      <td>nao_pagou</td>\n",
       "      <td>ensin_medio</td>\n",
       "      <td>abaixo_30</td>\n",
       "      <td>(24,34]</td>\n",
       "    </tr>\n",
       "  </tbody>\n",
       "</table>\n",
       "</div>\n",
       "      <button class=\"colab-df-convert\" onclick=\"convertToInteractive('df-6fe34c3e-a909-42dc-9f16-807bdb0118c3')\"\n",
       "              title=\"Convert this dataframe to an interactive table.\"\n",
       "              style=\"display:none;\">\n",
       "        \n",
       "  <svg xmlns=\"http://www.w3.org/2000/svg\" height=\"24px\"viewBox=\"0 0 24 24\"\n",
       "       width=\"24px\">\n",
       "    <path d=\"M0 0h24v24H0V0z\" fill=\"none\"/>\n",
       "    <path d=\"M18.56 5.44l.94 2.06.94-2.06 2.06-.94-2.06-.94-.94-2.06-.94 2.06-2.06.94zm-11 1L8.5 8.5l.94-2.06 2.06-.94-2.06-.94L8.5 2.5l-.94 2.06-2.06.94zm10 10l.94 2.06.94-2.06 2.06-.94-2.06-.94-.94-2.06-.94 2.06-2.06.94z\"/><path d=\"M17.41 7.96l-1.37-1.37c-.4-.4-.92-.59-1.43-.59-.52 0-1.04.2-1.43.59L10.3 9.45l-7.72 7.72c-.78.78-.78 2.05 0 2.83L4 21.41c.39.39.9.59 1.41.59.51 0 1.02-.2 1.41-.59l7.78-7.78 2.81-2.81c.8-.78.8-2.07 0-2.86zM5.41 20L4 18.59l7.72-7.72 1.47 1.35L5.41 20z\"/>\n",
       "  </svg>\n",
       "      </button>\n",
       "      \n",
       "  <style>\n",
       "    .colab-df-container {\n",
       "      display:flex;\n",
       "      flex-wrap:wrap;\n",
       "      gap: 12px;\n",
       "    }\n",
       "\n",
       "    .colab-df-convert {\n",
       "      background-color: #E8F0FE;\n",
       "      border: none;\n",
       "      border-radius: 50%;\n",
       "      cursor: pointer;\n",
       "      display: none;\n",
       "      fill: #1967D2;\n",
       "      height: 32px;\n",
       "      padding: 0 0 0 0;\n",
       "      width: 32px;\n",
       "    }\n",
       "\n",
       "    .colab-df-convert:hover {\n",
       "      background-color: #E2EBFA;\n",
       "      box-shadow: 0px 1px 2px rgba(60, 64, 67, 0.3), 0px 1px 3px 1px rgba(60, 64, 67, 0.15);\n",
       "      fill: #174EA6;\n",
       "    }\n",
       "\n",
       "    [theme=dark] .colab-df-convert {\n",
       "      background-color: #3B4455;\n",
       "      fill: #D2E3FC;\n",
       "    }\n",
       "\n",
       "    [theme=dark] .colab-df-convert:hover {\n",
       "      background-color: #434B5C;\n",
       "      box-shadow: 0px 1px 3px 1px rgba(0, 0, 0, 0.15);\n",
       "      filter: drop-shadow(0px 1px 2px rgba(0, 0, 0, 0.3));\n",
       "      fill: #FFFFFF;\n",
       "    }\n",
       "  </style>\n",
       "\n",
       "      <script>\n",
       "        const buttonEl =\n",
       "          document.querySelector('#df-6fe34c3e-a909-42dc-9f16-807bdb0118c3 button.colab-df-convert');\n",
       "        buttonEl.style.display =\n",
       "          google.colab.kernel.accessAllowed ? 'block' : 'none';\n",
       "\n",
       "        async function convertToInteractive(key) {\n",
       "          const element = document.querySelector('#df-6fe34c3e-a909-42dc-9f16-807bdb0118c3');\n",
       "          const dataTable =\n",
       "            await google.colab.kernel.invokeFunction('convertToInteractive',\n",
       "                                                     [key], {});\n",
       "          if (!dataTable) return;\n",
       "\n",
       "          const docLinkHtml = 'Like what you see? Visit the ' +\n",
       "            '<a target=\"_blank\" href=https://colab.research.google.com/notebooks/data_table.ipynb>data table notebook</a>'\n",
       "            + ' to learn more about interactive tables.';\n",
       "          element.innerHTML = '';\n",
       "          dataTable['output_type'] = 'display_data';\n",
       "          await google.colab.output.renderOutput(dataTable, element);\n",
       "          const docLink = document.createElement('div');\n",
       "          docLink.innerHTML = docLinkHtml;\n",
       "          element.appendChild(docLink);\n",
       "        }\n",
       "      </script>\n",
       "    </div>\n",
       "  </div>\n",
       "  "
      ],
      "text/plain": [
       "   id  idade  educacao  ...  educacao_cat    idade_cat  renda_cat\n",
       "0   1     41         3  ...     ensin_sup     acima_40   (54,446]\n",
       "1   2     27         1  ...  ensin_basico    abaixo_30    (24,34]\n",
       "2   3     40         1  ...  ensin_basico  entre_30_40   (54,446]\n",
       "3   4     41         1  ...  ensin_basico     acima_40   (54,446]\n",
       "4   5     24         2  ...   ensin_medio    abaixo_30    (24,34]\n",
       "\n",
       "[5 rows x 11 columns]"
      ]
     },
     "execution_count": 3,
     "metadata": {},
     "output_type": "execute_result"
    }
   ],
   "source": [
    "dados_credito = pd.read_csv('dados_credito_small.csv')\n",
    "dados_credito.head()"
   ]
  },
  {
   "cell_type": "markdown",
   "metadata": {
    "id": "TRjulTAinY4m"
   },
   "source": [
    "## 1 - V de Cramer"
   ]
  },
  {
   "cell_type": "code",
   "execution_count": 4,
   "metadata": {
    "colab": {
     "base_uri": "https://localhost:8080/",
     "height": 143
    },
    "executionInfo": {
     "elapsed": 5,
     "status": "ok",
     "timestamp": 1645052465707,
     "user": {
      "displayName": "Neto Alcides",
      "photoUrl": "https://lh3.googleusercontent.com/a-/AOh14Gh8VabomHhTSghAjZkIwbJOQxu7jJks-O6DCCPedw=s64",
      "userId": "13364792603978952311"
     },
     "user_tz": 180
    },
    "id": "pqk7_3OTn0ps",
    "outputId": "469aa6f9-ae21-4881-a581-ab707654f34d"
   },
   "outputs": [
    {
     "data": {
      "text/html": [
       "\n",
       "  <div id=\"df-507b4521-200a-488c-aae5-b9c3d7f48728\">\n",
       "    <div class=\"colab-df-container\">\n",
       "      <div>\n",
       "<style scoped>\n",
       "    .dataframe tbody tr th:only-of-type {\n",
       "        vertical-align: middle;\n",
       "    }\n",
       "\n",
       "    .dataframe tbody tr th {\n",
       "        vertical-align: top;\n",
       "    }\n",
       "\n",
       "    .dataframe thead th {\n",
       "        text-align: right;\n",
       "    }\n",
       "</style>\n",
       "<table border=\"1\" class=\"dataframe\">\n",
       "  <thead>\n",
       "    <tr style=\"text-align: right;\">\n",
       "      <th>renda_cat</th>\n",
       "      <th>(24,34]</th>\n",
       "      <th>(34,54]</th>\n",
       "      <th>(54,446]</th>\n",
       "      <th>[14,24]</th>\n",
       "    </tr>\n",
       "    <tr>\n",
       "      <th>default</th>\n",
       "      <th></th>\n",
       "      <th></th>\n",
       "      <th></th>\n",
       "      <th></th>\n",
       "    </tr>\n",
       "  </thead>\n",
       "  <tbody>\n",
       "    <tr>\n",
       "      <th>nao_pagou</th>\n",
       "      <td>24</td>\n",
       "      <td>28</td>\n",
       "      <td>28</td>\n",
       "      <td>49</td>\n",
       "    </tr>\n",
       "    <tr>\n",
       "      <th>pagou</th>\n",
       "      <td>103</td>\n",
       "      <td>95</td>\n",
       "      <td>96</td>\n",
       "      <td>77</td>\n",
       "    </tr>\n",
       "  </tbody>\n",
       "</table>\n",
       "</div>\n",
       "      <button class=\"colab-df-convert\" onclick=\"convertToInteractive('df-507b4521-200a-488c-aae5-b9c3d7f48728')\"\n",
       "              title=\"Convert this dataframe to an interactive table.\"\n",
       "              style=\"display:none;\">\n",
       "        \n",
       "  <svg xmlns=\"http://www.w3.org/2000/svg\" height=\"24px\"viewBox=\"0 0 24 24\"\n",
       "       width=\"24px\">\n",
       "    <path d=\"M0 0h24v24H0V0z\" fill=\"none\"/>\n",
       "    <path d=\"M18.56 5.44l.94 2.06.94-2.06 2.06-.94-2.06-.94-.94-2.06-.94 2.06-2.06.94zm-11 1L8.5 8.5l.94-2.06 2.06-.94-2.06-.94L8.5 2.5l-.94 2.06-2.06.94zm10 10l.94 2.06.94-2.06 2.06-.94-2.06-.94-.94-2.06-.94 2.06-2.06.94z\"/><path d=\"M17.41 7.96l-1.37-1.37c-.4-.4-.92-.59-1.43-.59-.52 0-1.04.2-1.43.59L10.3 9.45l-7.72 7.72c-.78.78-.78 2.05 0 2.83L4 21.41c.39.39.9.59 1.41.59.51 0 1.02-.2 1.41-.59l7.78-7.78 2.81-2.81c.8-.78.8-2.07 0-2.86zM5.41 20L4 18.59l7.72-7.72 1.47 1.35L5.41 20z\"/>\n",
       "  </svg>\n",
       "      </button>\n",
       "      \n",
       "  <style>\n",
       "    .colab-df-container {\n",
       "      display:flex;\n",
       "      flex-wrap:wrap;\n",
       "      gap: 12px;\n",
       "    }\n",
       "\n",
       "    .colab-df-convert {\n",
       "      background-color: #E8F0FE;\n",
       "      border: none;\n",
       "      border-radius: 50%;\n",
       "      cursor: pointer;\n",
       "      display: none;\n",
       "      fill: #1967D2;\n",
       "      height: 32px;\n",
       "      padding: 0 0 0 0;\n",
       "      width: 32px;\n",
       "    }\n",
       "\n",
       "    .colab-df-convert:hover {\n",
       "      background-color: #E2EBFA;\n",
       "      box-shadow: 0px 1px 2px rgba(60, 64, 67, 0.3), 0px 1px 3px 1px rgba(60, 64, 67, 0.15);\n",
       "      fill: #174EA6;\n",
       "    }\n",
       "\n",
       "    [theme=dark] .colab-df-convert {\n",
       "      background-color: #3B4455;\n",
       "      fill: #D2E3FC;\n",
       "    }\n",
       "\n",
       "    [theme=dark] .colab-df-convert:hover {\n",
       "      background-color: #434B5C;\n",
       "      box-shadow: 0px 1px 3px 1px rgba(0, 0, 0, 0.15);\n",
       "      filter: drop-shadow(0px 1px 2px rgba(0, 0, 0, 0.3));\n",
       "      fill: #FFFFFF;\n",
       "    }\n",
       "  </style>\n",
       "\n",
       "      <script>\n",
       "        const buttonEl =\n",
       "          document.querySelector('#df-507b4521-200a-488c-aae5-b9c3d7f48728 button.colab-df-convert');\n",
       "        buttonEl.style.display =\n",
       "          google.colab.kernel.accessAllowed ? 'block' : 'none';\n",
       "\n",
       "        async function convertToInteractive(key) {\n",
       "          const element = document.querySelector('#df-507b4521-200a-488c-aae5-b9c3d7f48728');\n",
       "          const dataTable =\n",
       "            await google.colab.kernel.invokeFunction('convertToInteractive',\n",
       "                                                     [key], {});\n",
       "          if (!dataTable) return;\n",
       "\n",
       "          const docLinkHtml = 'Like what you see? Visit the ' +\n",
       "            '<a target=\"_blank\" href=https://colab.research.google.com/notebooks/data_table.ipynb>data table notebook</a>'\n",
       "            + ' to learn more about interactive tables.';\n",
       "          element.innerHTML = '';\n",
       "          dataTable['output_type'] = 'display_data';\n",
       "          await google.colab.output.renderOutput(dataTable, element);\n",
       "          const docLink = document.createElement('div');\n",
       "          docLink.innerHTML = docLinkHtml;\n",
       "          element.appendChild(docLink);\n",
       "        }\n",
       "      </script>\n",
       "    </div>\n",
       "  </div>\n",
       "  "
      ],
      "text/plain": [
       "renda_cat  (24,34]  (34,54]  (54,446]  [14,24]\n",
       "default                                       \n",
       "nao_pagou       24       28        28       49\n",
       "pagou          103       95        96       77"
      ]
     },
     "execution_count": 4,
     "metadata": {},
     "output_type": "execute_result"
    }
   ],
   "source": [
    "# obter a tabela cruzada\n",
    "tabela = pd.crosstab(dados_credito['default'], dados_credito['renda_cat'])\n",
    "tabela"
   ]
  },
  {
   "cell_type": "code",
   "execution_count": 5,
   "metadata": {
    "colab": {
     "base_uri": "https://localhost:8080/"
    },
    "executionInfo": {
     "elapsed": 232,
     "status": "ok",
     "timestamp": 1645052467028,
     "user": {
      "displayName": "Neto Alcides",
      "photoUrl": "https://lh3.googleusercontent.com/a-/AOh14Gh8VabomHhTSghAjZkIwbJOQxu7jJks-O6DCCPedw=s64",
      "userId": "13364792603978952311"
     },
     "user_tz": 180
    },
    "id": "gWjUJ0s2wxje",
    "outputId": "78ad3cd2-96a5-4775-a7e0-d5ff09193cd0"
   },
   "outputs": [
    {
     "data": {
      "text/plain": [
       "0.1772006817387785"
      ]
     },
     "execution_count": 5,
     "metadata": {},
     "output_type": "execute_result"
    }
   ],
   "source": [
    "vcramer_1 = st.contingency.association(tabela, method='cramer')\n",
    "vcramer_1"
   ]
  },
  {
   "cell_type": "markdown",
   "metadata": {
    "id": "gdfQeTsnn0uJ"
   },
   "source": [
    "## 2 - Gráficos"
   ]
  },
  {
   "cell_type": "markdown",
   "metadata": {
    "id": "m5vS7xCSqna2"
   },
   "source": [
    "- renda, divida"
   ]
  },
  {
   "cell_type": "code",
   "execution_count": 6,
   "metadata": {
    "colab": {
     "base_uri": "https://localhost:8080/",
     "height": 297
    },
    "executionInfo": {
     "elapsed": 785,
     "status": "ok",
     "timestamp": 1645053100325,
     "user": {
      "displayName": "Neto Alcides",
      "photoUrl": "https://lh3.googleusercontent.com/a-/AOh14Gh8VabomHhTSghAjZkIwbJOQxu7jJks-O6DCCPedw=s64",
      "userId": "13364792603978952311"
     },
     "user_tz": 180
    },
    "id": "vPHnrtJLx7eV",
    "outputId": "92b26cb6-762a-4c39-c6b5-1fed926487aa"
   },
   "outputs": [
    {
     "data": {
      "text/plain": [
       "<matplotlib.axes._subplots.AxesSubplot at 0x7f737000cd50>"
      ]
     },
     "execution_count": 6,
     "metadata": {},
     "output_type": "execute_result"
    },
    {
     "data": {
      "image/png": "[encoded data removed]",
      "text/plain": [
       "<Figure size 432x288 with 1 Axes>"
      ]
     },
     "metadata": {
      "needs_background": "light"
     },
     "output_type": "display_data"
    }
   ],
   "source": [
    "dados_credito.plot.scatter(x='renda', y='divida')"
   ]
  },
  {
   "cell_type": "markdown",
   "metadata": {
    "id": "ZnY-navpx7iE"
   },
   "source": [
    "- renda, outras_div"
   ]
  },
  {
   "cell_type": "code",
   "execution_count": 7,
   "metadata": {
    "colab": {
     "base_uri": "https://localhost:8080/",
     "height": 297
    },
    "executionInfo": {
     "elapsed": 660,
     "status": "ok",
     "timestamp": 1645053112778,
     "user": {
      "displayName": "Neto Alcides",
      "photoUrl": "https://lh3.googleusercontent.com/a-/AOh14Gh8VabomHhTSghAjZkIwbJOQxu7jJks-O6DCCPedw=s64",
      "userId": "13364792603978952311"
     },
     "user_tz": 180
    },
    "id": "6o27MEzwx7mM",
    "outputId": "fb2c2b1d-0c2e-41af-8578-a73a40687978"
   },
   "outputs": [
    {
     "data": {
      "text/plain": [
       "<matplotlib.axes._subplots.AxesSubplot at 0x7f736f3f4790>"
      ]
     },
     "execution_count": 7,
     "metadata": {},
     "output_type": "execute_result"
    },
    {
     "data": {
      "image/png": "[encoded data removed]",
      "text/plain": [
       "<Figure size 432x288 with 1 Axes>"
      ]
     },
     "metadata": {
      "needs_background": "light"
     },
     "output_type": "display_data"
    }
   ],
   "source": [
    "dados_credito.plot.scatter(x='renda', y='outras_div')"
   ]
  },
  {
   "cell_type": "markdown",
   "metadata": {
    "id": "cMbslPz9x7p9"
   },
   "source": [
    "- outras_div, divida"
   ]
  },
  {
   "cell_type": "code",
   "execution_count": 8,
   "metadata": {
    "colab": {
     "base_uri": "https://localhost:8080/",
     "height": 297
    },
    "executionInfo": {
     "elapsed": 692,
     "status": "ok",
     "timestamp": 1645053123065,
     "user": {
      "displayName": "Neto Alcides",
      "photoUrl": "https://lh3.googleusercontent.com/a-/AOh14Gh8VabomHhTSghAjZkIwbJOQxu7jJks-O6DCCPedw=s64",
      "userId": "13364792603978952311"
     },
     "user_tz": 180
    },
    "id": "epwITqJox7t0",
    "outputId": "69ca6b52-4103-4f31-825e-8fda772e8ff7"
   },
   "outputs": [
    {
     "data": {
      "text/plain": [
       "<matplotlib.axes._subplots.AxesSubplot at 0x7f736ef09950>"
      ]
     },
     "execution_count": 8,
     "metadata": {},
     "output_type": "execute_result"
    },
    {
     "data": {
      "image/png": "[encoded data removed]",
      "text/plain": [
       "<Figure size 432x288 with 1 Axes>"
      ]
     },
     "metadata": {
      "needs_background": "light"
     },
     "output_type": "display_data"
    }
   ],
   "source": [
    "dados_credito.plot.scatter(x='divida', y='outras_div')"
   ]
  },
  {
   "cell_type": "markdown",
   "metadata": {
    "id": "S3hVKpRozA0N"
   },
   "source": [
    "## 3 - Correlação de Pearson entre renda, divida e outras_div."
   ]
  },
  {
   "cell_type": "code",
   "execution_count": 9,
   "metadata": {
    "colab": {
     "base_uri": "https://localhost:8080/",
     "height": 143
    },
    "executionInfo": {
     "elapsed": 265,
     "status": "ok",
     "timestamp": 1645053218768,
     "user": {
      "displayName": "Neto Alcides",
      "photoUrl": "https://lh3.googleusercontent.com/a-/AOh14Gh8VabomHhTSghAjZkIwbJOQxu7jJks-O6DCCPedw=s64",
      "userId": "13364792603978952311"
     },
     "user_tz": 180
    },
    "id": "4hOvG-jWzugV",
    "outputId": "b6a1da05-f871-4eb7-c656-94e4f96d3398"
   },
   "outputs": [
    {
     "data": {
      "text/html": [
       "\n",
       "  <div id=\"df-ef839e18-afd8-4659-97d1-aa8c65b7da3b\">\n",
       "    <div class=\"colab-df-container\">\n",
       "      <div>\n",
       "<style scoped>\n",
       "    .dataframe tbody tr th:only-of-type {\n",
       "        vertical-align: middle;\n",
       "    }\n",
       "\n",
       "    .dataframe tbody tr th {\n",
       "        vertical-align: top;\n",
       "    }\n",
       "\n",
       "    .dataframe thead th {\n",
       "        text-align: right;\n",
       "    }\n",
       "</style>\n",
       "<table border=\"1\" class=\"dataframe\">\n",
       "  <thead>\n",
       "    <tr style=\"text-align: right;\">\n",
       "      <th></th>\n",
       "      <th>renda</th>\n",
       "      <th>divida</th>\n",
       "      <th>outras_div</th>\n",
       "    </tr>\n",
       "  </thead>\n",
       "  <tbody>\n",
       "    <tr>\n",
       "      <th>renda</th>\n",
       "      <td>1.000000</td>\n",
       "      <td>-0.016425</td>\n",
       "      <td>0.584408</td>\n",
       "    </tr>\n",
       "    <tr>\n",
       "      <th>divida</th>\n",
       "      <td>-0.016425</td>\n",
       "      <td>1.000000</td>\n",
       "      <td>0.613745</td>\n",
       "    </tr>\n",
       "    <tr>\n",
       "      <th>outras_div</th>\n",
       "      <td>0.584408</td>\n",
       "      <td>0.613745</td>\n",
       "      <td>1.000000</td>\n",
       "    </tr>\n",
       "  </tbody>\n",
       "</table>\n",
       "</div>\n",
       "      <button class=\"colab-df-convert\" onclick=\"convertToInteractive('df-ef839e18-afd8-4659-97d1-aa8c65b7da3b')\"\n",
       "              title=\"Convert this dataframe to an interactive table.\"\n",
       "              style=\"display:none;\">\n",
       "        \n",
       "  <svg xmlns=\"http://www.w3.org/2000/svg\" height=\"24px\"viewBox=\"0 0 24 24\"\n",
       "       width=\"24px\">\n",
       "    <path d=\"M0 0h24v24H0V0z\" fill=\"none\"/>\n",
       "    <path d=\"M18.56 5.44l.94 2.06.94-2.06 2.06-.94-2.06-.94-.94-2.06-.94 2.06-2.06.94zm-11 1L8.5 8.5l.94-2.06 2.06-.94-2.06-.94L8.5 2.5l-.94 2.06-2.06.94zm10 10l.94 2.06.94-2.06 2.06-.94-2.06-.94-.94-2.06-.94 2.06-2.06.94z\"/><path d=\"M17.41 7.96l-1.37-1.37c-.4-.4-.92-.59-1.43-.59-.52 0-1.04.2-1.43.59L10.3 9.45l-7.72 7.72c-.78.78-.78 2.05 0 2.83L4 21.41c.39.39.9.59 1.41.59.51 0 1.02-.2 1.41-.59l7.78-7.78 2.81-2.81c.8-.78.8-2.07 0-2.86zM5.41 20L4 18.59l7.72-7.72 1.47 1.35L5.41 20z\"/>\n",
       "  </svg>\n",
       "      </button>\n",
       "      \n",
       "  <style>\n",
       "    .colab-df-container {\n",
       "      display:flex;\n",
       "      flex-wrap:wrap;\n",
       "      gap: 12px;\n",
       "    }\n",
       "\n",
       "    .colab-df-convert {\n",
       "      background-color: #E8F0FE;\n",
       "      border: none;\n",
       "      border-radius: 50%;\n",
       "      cursor: pointer;\n",
       "      display: none;\n",
       "      fill: #1967D2;\n",
       "      height: 32px;\n",
       "      padding: 0 0 0 0;\n",
       "      width: 32px;\n",
       "    }\n",
       "\n",
       "    .colab-df-convert:hover {\n",
       "      background-color: #E2EBFA;\n",
       "      box-shadow: 0px 1px 2px rgba(60, 64, 67, 0.3), 0px 1px 3px 1px rgba(60, 64, 67, 0.15);\n",
       "      fill: #174EA6;\n",
       "    }\n",
       "\n",
       "    [theme=dark] .colab-df-convert {\n",
       "      background-color: #3B4455;\n",
       "      fill: #D2E3FC;\n",
       "    }\n",
       "\n",
       "    [theme=dark] .colab-df-convert:hover {\n",
       "      background-color: #434B5C;\n",
       "      box-shadow: 0px 1px 3px 1px rgba(0, 0, 0, 0.15);\n",
       "      filter: drop-shadow(0px 1px 2px rgba(0, 0, 0, 0.3));\n",
       "      fill: #FFFFFF;\n",
       "    }\n",
       "  </style>\n",
       "\n",
       "      <script>\n",
       "        const buttonEl =\n",
       "          document.querySelector('#df-ef839e18-afd8-4659-97d1-aa8c65b7da3b button.colab-df-convert');\n",
       "        buttonEl.style.display =\n",
       "          google.colab.kernel.accessAllowed ? 'block' : 'none';\n",
       "\n",
       "        async function convertToInteractive(key) {\n",
       "          const element = document.querySelector('#df-ef839e18-afd8-4659-97d1-aa8c65b7da3b');\n",
       "          const dataTable =\n",
       "            await google.colab.kernel.invokeFunction('convertToInteractive',\n",
       "                                                     [key], {});\n",
       "          if (!dataTable) return;\n",
       "\n",
       "          const docLinkHtml = 'Like what you see? Visit the ' +\n",
       "            '<a target=\"_blank\" href=https://colab.research.google.com/notebooks/data_table.ipynb>data table notebook</a>'\n",
       "            + ' to learn more about interactive tables.';\n",
       "          element.innerHTML = '';\n",
       "          dataTable['output_type'] = 'display_data';\n",
       "          await google.colab.output.renderOutput(dataTable, element);\n",
       "          const docLink = document.createElement('div');\n",
       "          docLink.innerHTML = docLinkHtml;\n",
       "          element.appendChild(docLink);\n",
       "        }\n",
       "      </script>\n",
       "    </div>\n",
       "  </div>\n",
       "  "
      ],
      "text/plain": [
       "               renda    divida  outras_div\n",
       "renda       1.000000 -0.016425    0.584408\n",
       "divida     -0.016425  1.000000    0.613745\n",
       "outras_div  0.584408  0.613745    1.000000"
      ]
     },
     "execution_count": 9,
     "metadata": {},
     "output_type": "execute_result"
    }
   ],
   "source": [
    "# correlacao\n",
    "cols = ['renda', 'divida', 'outras_div']\n",
    "pearson_correl = dados_credito[cols].corr()\n",
    "pearson_correl"
   ]
  },
  {
   "cell_type": "code",
   "execution_count": 10,
   "metadata": {
    "colab": {
     "base_uri": "https://localhost:8080/",
     "height": 200
    },
    "executionInfo": {
     "elapsed": 251,
     "status": "ok",
     "timestamp": 1645053227973,
     "user": {
      "displayName": "Neto Alcides",
      "photoUrl": "https://lh3.googleusercontent.com/a-/AOh14Gh8VabomHhTSghAjZkIwbJOQxu7jJks-O6DCCPedw=s64",
      "userId": "13364792603978952311"
     },
     "user_tz": 180
    },
    "id": "UX67j59mzukr",
    "outputId": "07fbe8a3-e9df-4ef4-809c-494d4f0b5587"
   },
   "outputs": [
    {
     "name": "stderr",
     "output_type": "stream",
     "text": [
      "/usr/local/lib/python3.7/dist-packages/ipykernel_launcher.py:2: FutureWarning: this method is deprecated in favour of `Styler.format(precision=..)`\n",
      "  \n"
     ]
    },
    {
     "data": {
      "text/html": [
       "<style type=\"text/css\">\n",
       "#T_4f970_row0_col0, #T_4f970_row1_col1, #T_4f970_row2_col2 {\n",
       "  background-color: #b40426;\n",
       "  color: #f1f1f1;\n",
       "}\n",
       "#T_4f970_row0_col1, #T_4f970_row0_col2, #T_4f970_row1_col0 {\n",
       "  background-color: #3b4cc0;\n",
       "  color: #f1f1f1;\n",
       "}\n",
       "#T_4f970_row1_col2 {\n",
       "  background-color: #506bda;\n",
       "  color: #f1f1f1;\n",
       "}\n",
       "#T_4f970_row2_col0 {\n",
       "  background-color: #f1cdba;\n",
       "  color: #000000;\n",
       "}\n",
       "#T_4f970_row2_col1 {\n",
       "  background-color: #f4c6af;\n",
       "  color: #000000;\n",
       "}\n",
       "</style>\n",
       "<table id=\"T_4f970_\" class=\"dataframe\">\n",
       "  <thead>\n",
       "    <tr>\n",
       "      <th class=\"blank level0\" >&nbsp;</th>\n",
       "      <th class=\"col_heading level0 col0\" >renda</th>\n",
       "      <th class=\"col_heading level0 col1\" >divida</th>\n",
       "      <th class=\"col_heading level0 col2\" >outras_div</th>\n",
       "    </tr>\n",
       "  </thead>\n",
       "  <tbody>\n",
       "    <tr>\n",
       "      <th id=\"T_4f970_level0_row0\" class=\"row_heading level0 row0\" >renda</th>\n",
       "      <td id=\"T_4f970_row0_col0\" class=\"data row0 col0\" >1.00</td>\n",
       "      <td id=\"T_4f970_row0_col1\" class=\"data row0 col1\" >-0.02</td>\n",
       "      <td id=\"T_4f970_row0_col2\" class=\"data row0 col2\" >0.58</td>\n",
       "    </tr>\n",
       "    <tr>\n",
       "      <th id=\"T_4f970_level0_row1\" class=\"row_heading level0 row1\" >divida</th>\n",
       "      <td id=\"T_4f970_row1_col0\" class=\"data row1 col0\" >-0.02</td>\n",
       "      <td id=\"T_4f970_row1_col1\" class=\"data row1 col1\" >1.00</td>\n",
       "      <td id=\"T_4f970_row1_col2\" class=\"data row1 col2\" >0.61</td>\n",
       "    </tr>\n",
       "    <tr>\n",
       "      <th id=\"T_4f970_level0_row2\" class=\"row_heading level0 row2\" >outras_div</th>\n",
       "      <td id=\"T_4f970_row2_col0\" class=\"data row2 col0\" >0.58</td>\n",
       "      <td id=\"T_4f970_row2_col1\" class=\"data row2 col1\" >0.61</td>\n",
       "      <td id=\"T_4f970_row2_col2\" class=\"data row2 col2\" >1.00</td>\n",
       "    </tr>\n",
       "  </tbody>\n",
       "</table>\n"
      ],
      "text/plain": [
       "<pandas.io.formats.style.Styler at 0x7f736d3a03d0>"
      ]
     },
     "execution_count": 10,
     "metadata": {},
     "output_type": "execute_result"
    }
   ],
   "source": [
    "# matriz ajustada\n",
    "pearson_correl.style.background_gradient(cmap='coolwarm').set_precision(2)"
   ]
  },
  {
   "cell_type": "markdown",
   "metadata": {
    "id": "BJwwlFkfqneO"
   },
   "source": [
    "## 4 - Teste de correlação entre renda, divida e outras_div."
   ]
  },
  {
   "cell_type": "code",
   "execution_count": 11,
   "metadata": {
    "executionInfo": {
     "elapsed": 239,
     "status": "ok",
     "timestamp": 1645053291653,
     "user": {
      "displayName": "Neto Alcides",
      "photoUrl": "https://lh3.googleusercontent.com/a-/AOh14Gh8VabomHhTSghAjZkIwbJOQxu7jJks-O6DCCPedw=s64",
      "userId": "13364792603978952311"
     },
     "user_tz": 180
    },
    "id": "mRxnHCJwn1Dl"
   },
   "outputs": [],
   "source": [
    "correl_columns = ['renda', 'divida', 'outras_div']"
   ]
  },
  {
   "cell_type": "code",
   "execution_count": 15,
   "metadata": {
    "colab": {
     "base_uri": "https://localhost:8080/",
     "height": 143
    },
    "executionInfo": {
     "elapsed": 257,
     "status": "ok",
     "timestamp": 1645053412422,
     "user": {
      "displayName": "Neto Alcides",
      "photoUrl": "https://lh3.googleusercontent.com/a-/AOh14Gh8VabomHhTSghAjZkIwbJOQxu7jJks-O6DCCPedw=s64",
      "userId": "13364792603978952311"
     },
     "user_tz": 180
    },
    "id": "Sl72Vj5m0ISc",
    "outputId": "00829893-f9b1-451f-9c41-e4fc02cc61db"
   },
   "outputs": [
    {
     "data": {
      "text/html": [
       "\n",
       "  <div id=\"df-e18ab1b7-9557-48eb-bb3d-f8a26affabcb\">\n",
       "    <div class=\"colab-df-container\">\n",
       "      <div>\n",
       "<style scoped>\n",
       "    .dataframe tbody tr th:only-of-type {\n",
       "        vertical-align: middle;\n",
       "    }\n",
       "\n",
       "    .dataframe tbody tr th {\n",
       "        vertical-align: top;\n",
       "    }\n",
       "\n",
       "    .dataframe thead th {\n",
       "        text-align: right;\n",
       "    }\n",
       "</style>\n",
       "<table border=\"1\" class=\"dataframe\">\n",
       "  <thead>\n",
       "    <tr style=\"text-align: right;\">\n",
       "      <th></th>\n",
       "      <th>X</th>\n",
       "      <th>Y</th>\n",
       "      <th>method</th>\n",
       "      <th>alternative</th>\n",
       "      <th>n</th>\n",
       "      <th>r</th>\n",
       "      <th>CI95%</th>\n",
       "      <th>p-unc</th>\n",
       "      <th>BF10</th>\n",
       "      <th>power</th>\n",
       "    </tr>\n",
       "  </thead>\n",
       "  <tbody>\n",
       "    <tr>\n",
       "      <th>0</th>\n",
       "      <td>renda</td>\n",
       "      <td>divida</td>\n",
       "      <td>pearson</td>\n",
       "      <td>two-sided</td>\n",
       "      <td>500</td>\n",
       "      <td>-0.016425</td>\n",
       "      <td>[-0.1, 0.07]</td>\n",
       "      <td>7.140881e-01</td>\n",
       "      <td>0.06</td>\n",
       "      <td>0.065492</td>\n",
       "    </tr>\n",
       "    <tr>\n",
       "      <th>1</th>\n",
       "      <td>renda</td>\n",
       "      <td>outras_div</td>\n",
       "      <td>pearson</td>\n",
       "      <td>two-sided</td>\n",
       "      <td>500</td>\n",
       "      <td>0.584408</td>\n",
       "      <td>[0.52, 0.64]</td>\n",
       "      <td>3.979145e-47</td>\n",
       "      <td>5.665e+43</td>\n",
       "      <td>1.000000</td>\n",
       "    </tr>\n",
       "    <tr>\n",
       "      <th>2</th>\n",
       "      <td>divida</td>\n",
       "      <td>outras_div</td>\n",
       "      <td>pearson</td>\n",
       "      <td>two-sided</td>\n",
       "      <td>500</td>\n",
       "      <td>0.613745</td>\n",
       "      <td>[0.56, 0.67]</td>\n",
       "      <td>4.428785e-53</td>\n",
       "      <td>4.591e+49</td>\n",
       "      <td>1.000000</td>\n",
       "    </tr>\n",
       "  </tbody>\n",
       "</table>\n",
       "</div>\n",
       "      <button class=\"colab-df-convert\" onclick=\"convertToInteractive('df-e18ab1b7-9557-48eb-bb3d-f8a26affabcb')\"\n",
       "              title=\"Convert this dataframe to an interactive table.\"\n",
       "              style=\"display:none;\">\n",
       "        \n",
       "  <svg xmlns=\"http://www.w3.org/2000/svg\" height=\"24px\"viewBox=\"0 0 24 24\"\n",
       "       width=\"24px\">\n",
       "    <path d=\"M0 0h24v24H0V0z\" fill=\"none\"/>\n",
       "    <path d=\"M18.56 5.44l.94 2.06.94-2.06 2.06-.94-2.06-.94-.94-2.06-.94 2.06-2.06.94zm-11 1L8.5 8.5l.94-2.06 2.06-.94-2.06-.94L8.5 2.5l-.94 2.06-2.06.94zm10 10l.94 2.06.94-2.06 2.06-.94-2.06-.94-.94-2.06-.94 2.06-2.06.94z\"/><path d=\"M17.41 7.96l-1.37-1.37c-.4-.4-.92-.59-1.43-.59-.52 0-1.04.2-1.43.59L10.3 9.45l-7.72 7.72c-.78.78-.78 2.05 0 2.83L4 21.41c.39.39.9.59 1.41.59.51 0 1.02-.2 1.41-.59l7.78-7.78 2.81-2.81c.8-.78.8-2.07 0-2.86zM5.41 20L4 18.59l7.72-7.72 1.47 1.35L5.41 20z\"/>\n",
       "  </svg>\n",
       "      </button>\n",
       "      \n",
       "  <style>\n",
       "    .colab-df-container {\n",
       "      display:flex;\n",
       "      flex-wrap:wrap;\n",
       "      gap: 12px;\n",
       "    }\n",
       "\n",
       "    .colab-df-convert {\n",
       "      background-color: #E8F0FE;\n",
       "      border: none;\n",
       "      border-radius: 50%;\n",
       "      cursor: pointer;\n",
       "      display: none;\n",
       "      fill: #1967D2;\n",
       "      height: 32px;\n",
       "      padding: 0 0 0 0;\n",
       "      width: 32px;\n",
       "    }\n",
       "\n",
       "    .colab-df-convert:hover {\n",
       "      background-color: #E2EBFA;\n",
       "      box-shadow: 0px 1px 2px rgba(60, 64, 67, 0.3), 0px 1px 3px 1px rgba(60, 64, 67, 0.15);\n",
       "      fill: #174EA6;\n",
       "    }\n",
       "\n",
       "    [theme=dark] .colab-df-convert {\n",
       "      background-color: #3B4455;\n",
       "      fill: #D2E3FC;\n",
       "    }\n",
       "\n",
       "    [theme=dark] .colab-df-convert:hover {\n",
       "      background-color: #434B5C;\n",
       "      box-shadow: 0px 1px 3px 1px rgba(0, 0, 0, 0.15);\n",
       "      filter: drop-shadow(0px 1px 2px rgba(0, 0, 0, 0.3));\n",
       "      fill: #FFFFFF;\n",
       "    }\n",
       "  </style>\n",
       "\n",
       "      <script>\n",
       "        const buttonEl =\n",
       "          document.querySelector('#df-e18ab1b7-9557-48eb-bb3d-f8a26affabcb button.colab-df-convert');\n",
       "        buttonEl.style.display =\n",
       "          google.colab.kernel.accessAllowed ? 'block' : 'none';\n",
       "\n",
       "        async function convertToInteractive(key) {\n",
       "          const element = document.querySelector('#df-e18ab1b7-9557-48eb-bb3d-f8a26affabcb');\n",
       "          const dataTable =\n",
       "            await google.colab.kernel.invokeFunction('convertToInteractive',\n",
       "                                                     [key], {});\n",
       "          if (!dataTable) return;\n",
       "\n",
       "          const docLinkHtml = 'Like what you see? Visit the ' +\n",
       "            '<a target=\"_blank\" href=https://colab.research.google.com/notebooks/data_table.ipynb>data table notebook</a>'\n",
       "            + ' to learn more about interactive tables.';\n",
       "          element.innerHTML = '';\n",
       "          dataTable['output_type'] = 'display_data';\n",
       "          await google.colab.output.renderOutput(dataTable, element);\n",
       "          const docLink = document.createElement('div');\n",
       "          docLink.innerHTML = docLinkHtml;\n",
       "          element.appendChild(docLink);\n",
       "        }\n",
       "      </script>\n",
       "    </div>\n",
       "  </div>\n",
       "  "
      ],
      "text/plain": [
       "        X           Y   method  ...         p-unc       BF10     power\n",
       "0   renda      divida  pearson  ...  7.140881e-01       0.06  0.065492\n",
       "1   renda  outras_div  pearson  ...  3.979145e-47  5.665e+43  1.000000\n",
       "2  divida  outras_div  pearson  ...  4.428785e-53  4.591e+49  1.000000\n",
       "\n",
       "[3 rows x 10 columns]"
      ]
     },
     "execution_count": 15,
     "metadata": {},
     "output_type": "execute_result"
    }
   ],
   "source": [
    "# teste\n",
    "pg.pairwise_corr(dados_credito, \n",
    "                 columns = correl_columns, \n",
    "                 method = 'pearson')"
   ]
  },
  {
   "cell_type": "code",
   "execution_count": null,
   "metadata": {
    "id": "-ghTi97f0IWz"
   },
   "outputs": [],
   "source": []
  },
  {
   "cell_type": "code",
   "execution_count": null,
   "metadata": {
    "id": "4Zb9XNtZ0IZ6"
   },
   "outputs": [],
   "source": []
  },
  {
   "cell_type": "code",
   "execution_count": null,
   "metadata": {
    "id": "_JQnBOS80IeD"
   },
   "outputs": [],
   "source": []
  },
  {
   "cell_type": "code",
   "execution_count": null,
   "metadata": {
    "id": "vgOuIU6h0IiN"
   },
   "outputs": [],
   "source": []
  }
 ],
 "metadata": {
  "colab": {
   "authorship_tag": "ABX9TyPl2YASBmWHOZsDD8NmrFCa",
   "collapsed_sections": [],
   "name": "cap6_atividade_resolucao.ipynb",
   "provenance": []
  },
  "kernelspec": {
   "display_name": "Python 3",
   "name": "python3"
  },
  "language_info": {
   "name": "python"
  }
 },
 "nbformat": 4,
 "nbformat_minor": 0
}
